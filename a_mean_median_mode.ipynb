{
  "metadata": {
    "kernelspec": {
      "name": "python3",
      "display_name": "Python 3.8.2 64-bit",
      "metadata": {
        "interpreter": {
          "hash": "752579dbebe7f4dfe7c1aa72eac13e23fc88be2cc1ea7ab14e1f8d69b2d97d12"
        }
      }
    },
    "language_info": {
      "codemirror_mode": {
        "name": "python",
        "version": 3
      },
      "file_extension": ".py",
      "mimetype": "text/x-python",
      "name": "python",
      "nbconvert_exporter": "python",
      "pygments_lexer": "ipython3",
      "version": "3.8.2-final"
    }
  },
  "nbformat_minor": 4,
  "nbformat": 4,
  "cells": [
    {
      "cell_type": "code",
      "execution_count": 4,
      "metadata": {},
      "outputs": [],
      "source": [
        "import pandas as pd\n",
        "import numpy as np"
      ]
    },
    {
      "cell_type": "code",
      "execution_count": 5,
      "metadata": {},
      "outputs": [
        {
          "output_type": "execute_result",
          "data": {
            "text/plain": [
              "        name    income\n",
              "0        Rob      5000\n",
              "1      Rafiq      6000\n",
              "2       Nina      4000\n",
              "3      Sofia      7500\n",
              "4      Mohan      8000\n",
              "5        Tao      7000\n",
              "6  Elon Musk  10000000"
            ],
            "text/html": "<div>\n<style scoped>\n    .dataframe tbody tr th:only-of-type {\n        vertical-align: middle;\n    }\n\n    .dataframe tbody tr th {\n        vertical-align: top;\n    }\n\n    .dataframe thead th {\n        text-align: right;\n    }\n</style>\n<table border=\"1\" class=\"dataframe\">\n  <thead>\n    <tr style=\"text-align: right;\">\n      <th></th>\n      <th>name</th>\n      <th>income</th>\n    </tr>\n  </thead>\n  <tbody>\n    <tr>\n      <th>0</th>\n      <td>Rob</td>\n      <td>5000</td>\n    </tr>\n    <tr>\n      <th>1</th>\n      <td>Rafiq</td>\n      <td>6000</td>\n    </tr>\n    <tr>\n      <th>2</th>\n      <td>Nina</td>\n      <td>4000</td>\n    </tr>\n    <tr>\n      <th>3</th>\n      <td>Sofia</td>\n      <td>7500</td>\n    </tr>\n    <tr>\n      <th>4</th>\n      <td>Mohan</td>\n      <td>8000</td>\n    </tr>\n    <tr>\n      <th>5</th>\n      <td>Tao</td>\n      <td>7000</td>\n    </tr>\n    <tr>\n      <th>6</th>\n      <td>Elon Musk</td>\n      <td>10000000</td>\n    </tr>\n  </tbody>\n</table>\n</div>"
          },
          "metadata": {},
          "execution_count": 5
        }
      ],
      "source": [
        "df = pd.read_csv(\"income.csv\",names=[\"name\",\"income\"],skiprows=[0])\n",
        "df"
      ]
    },
    {
      "cell_type": "code",
      "execution_count": 6,
      "metadata": {},
      "outputs": [
        {
          "output_type": "execute_result",
          "data": {
            "text/plain": [
              "count    7.000000e+00\n",
              "mean     1.433929e+06\n",
              "std      3.777283e+06\n",
              "min      4.000000e+03\n",
              "25%      5.500000e+03\n",
              "50%      7.000000e+03\n",
              "75%      7.750000e+03\n",
              "max      1.000000e+07\n",
              "Name: income, dtype: float64"
            ]
          },
          "metadata": {},
          "execution_count": 6
        }
      ],
      "source": [
        "df.income.describe()"
      ]
    },
    {
      "cell_type": "code",
      "execution_count": 7,
      "metadata": {},
      "outputs": [
        {
          "output_type": "execute_result",
          "data": {
            "text/plain": [
              "4000.0"
            ]
          },
          "metadata": {},
          "execution_count": 7
        }
      ],
      "source": [
        "# Zero Percentile\n",
        "df.income.quantile(0)"
      ]
    },
    {
      "cell_type": "code",
      "execution_count": 9,
      "metadata": {},
      "outputs": [
        {
          "output_type": "execute_result",
          "data": {
            "text/plain": [
              "6000"
            ]
          },
          "metadata": {},
          "execution_count": 9
        }
      ],
      "source": [
        "# 25th Percentile\n",
        "df.income.quantile(0.25,interpolation=\"higher\")"
      ]
    },
    {
      "cell_type": "code",
      "execution_count": 10,
      "metadata": {},
      "outputs": [
        {
          "output_type": "execute_result",
          "data": {
            "text/plain": [
              "7000"
            ]
          },
          "metadata": {},
          "execution_count": 10
        }
      ],
      "source": [
        "#50th percentile\n",
        "df.income.quantile(0.5,interpolation=\"higher\")"
      ]
    },
    {
      "cell_type": "code",
      "execution_count": 11,
      "metadata": {},
      "outputs": [
        {
          "output_type": "execute_result",
          "data": {
            "text/plain": [
              "7750.0"
            ]
          },
          "metadata": {},
          "execution_count": 11
        }
      ],
      "source": [
        "#75th percentile\n",
        "df.income.quantile(0.75)"
      ]
    },
    {
      "cell_type": "code",
      "execution_count": 13,
      "metadata": {},
      "outputs": [
        {
          "output_type": "execute_result",
          "data": {
            "text/plain": [
              "10000000.0"
            ]
          },
          "metadata": {},
          "execution_count": 13
        }
      ],
      "source": [
        "#100 percentile\n",
        "df.income.quantile(1)"
      ]
    },
    {
      "cell_type": "code",
      "execution_count": 16,
      "metadata": {},
      "outputs": [
        {
          "output_type": "execute_result",
          "data": {
            "text/plain": [
              "9400479.999999994"
            ]
          },
          "metadata": {},
          "execution_count": 16
        }
      ],
      "source": [
        "percentile_99 = df.income.quantile(.99)\n",
        "percentile_99"
      ]
    },
    {
      "cell_type": "code",
      "execution_count": 17,
      "metadata": {},
      "outputs": [
        {
          "output_type": "execute_result",
          "data": {
            "text/plain": [
              "        name    income\n",
              "6  Elon Musk  10000000"
            ],
            "text/html": "<div>\n<style scoped>\n    .dataframe tbody tr th:only-of-type {\n        vertical-align: middle;\n    }\n\n    .dataframe tbody tr th {\n        vertical-align: top;\n    }\n\n    .dataframe thead th {\n        text-align: right;\n    }\n</style>\n<table border=\"1\" class=\"dataframe\">\n  <thead>\n    <tr style=\"text-align: right;\">\n      <th></th>\n      <th>name</th>\n      <th>income</th>\n    </tr>\n  </thead>\n  <tbody>\n    <tr>\n      <th>6</th>\n      <td>Elon Musk</td>\n      <td>10000000</td>\n    </tr>\n  </tbody>\n</table>\n</div>"
          },
          "metadata": {},
          "execution_count": 17
        }
      ],
      "source": [
        "df[df.income > percentile_99]"
      ]
    },
    {
      "cell_type": "code",
      "execution_count": 18,
      "metadata": {},
      "outputs": [
        {
          "output_type": "execute_result",
          "data": {
            "text/plain": [
              "    name  income\n",
              "0    Rob    5000\n",
              "1  Rafiq    6000\n",
              "2   Nina    4000\n",
              "3  Sofia    7500\n",
              "4  Mohan    8000\n",
              "5    Tao    7000"
            ],
            "text/html": "<div>\n<style scoped>\n    .dataframe tbody tr th:only-of-type {\n        vertical-align: middle;\n    }\n\n    .dataframe tbody tr th {\n        vertical-align: top;\n    }\n\n    .dataframe thead th {\n        text-align: right;\n    }\n</style>\n<table border=\"1\" class=\"dataframe\">\n  <thead>\n    <tr style=\"text-align: right;\">\n      <th></th>\n      <th>name</th>\n      <th>income</th>\n    </tr>\n  </thead>\n  <tbody>\n    <tr>\n      <th>0</th>\n      <td>Rob</td>\n      <td>5000</td>\n    </tr>\n    <tr>\n      <th>1</th>\n      <td>Rafiq</td>\n      <td>6000</td>\n    </tr>\n    <tr>\n      <th>2</th>\n      <td>Nina</td>\n      <td>4000</td>\n    </tr>\n    <tr>\n      <th>3</th>\n      <td>Sofia</td>\n      <td>7500</td>\n    </tr>\n    <tr>\n      <th>4</th>\n      <td>Mohan</td>\n      <td>8000</td>\n    </tr>\n    <tr>\n      <th>5</th>\n      <td>Tao</td>\n      <td>7000</td>\n    </tr>\n  </tbody>\n</table>\n</div>"
          },
          "metadata": {},
          "execution_count": 18
        }
      ],
      "source": [
        "df = df[df.income < percentile_99]\n",
        "df"
      ]
    },
    {
      "cell_type": "code",
      "execution_count": 19,
      "metadata": {},
      "outputs": [
        {
          "output_type": "stream",
          "name": "stderr",
          "text": [
            "/var/folders/h4/qqz2p91x5h167vpp_3z4_s3w0000gn/T/ipykernel_1870/2943373670.py:1: SettingWithCopyWarning: \nA value is trying to be set on a copy of a slice from a DataFrame\n\nSee the caveats in the documentation: https://pandas.pydata.org/pandas-docs/stable/user_guide/indexing.html#returning-a-view-versus-a-copy\n  df['income'][3] = np.NaN\n"
          ]
        }
      ],
      "source": [
        "df['income'][3] = np.NaN"
      ]
    },
    {
      "cell_type": "code",
      "execution_count": 20,
      "metadata": {},
      "outputs": [
        {
          "output_type": "execute_result",
          "data": {
            "text/plain": [
              "    name  income\n",
              "0    Rob  5000.0\n",
              "1  Rafiq  6000.0\n",
              "2   Nina  4000.0\n",
              "3  Sofia     NaN\n",
              "4  Mohan  8000.0\n",
              "5    Tao  7000.0"
            ],
            "text/html": "<div>\n<style scoped>\n    .dataframe tbody tr th:only-of-type {\n        vertical-align: middle;\n    }\n\n    .dataframe tbody tr th {\n        vertical-align: top;\n    }\n\n    .dataframe thead th {\n        text-align: right;\n    }\n</style>\n<table border=\"1\" class=\"dataframe\">\n  <thead>\n    <tr style=\"text-align: right;\">\n      <th></th>\n      <th>name</th>\n      <th>income</th>\n    </tr>\n  </thead>\n  <tbody>\n    <tr>\n      <th>0</th>\n      <td>Rob</td>\n      <td>5000.0</td>\n    </tr>\n    <tr>\n      <th>1</th>\n      <td>Rafiq</td>\n      <td>6000.0</td>\n    </tr>\n    <tr>\n      <th>2</th>\n      <td>Nina</td>\n      <td>4000.0</td>\n    </tr>\n    <tr>\n      <th>3</th>\n      <td>Sofia</td>\n      <td>NaN</td>\n    </tr>\n    <tr>\n      <th>4</th>\n      <td>Mohan</td>\n      <td>8000.0</td>\n    </tr>\n    <tr>\n      <th>5</th>\n      <td>Tao</td>\n      <td>7000.0</td>\n    </tr>\n  </tbody>\n</table>\n</div>"
          },
          "metadata": {},
          "execution_count": 20
        }
      ],
      "source": [
        "df"
      ]
    },
    {
      "cell_type": "code",
      "execution_count": 21,
      "metadata": {},
      "outputs": [
        {
          "output_type": "execute_result",
          "data": {
            "text/plain": [
              "6000.0"
            ]
          },
          "metadata": {},
          "execution_count": 21
        }
      ],
      "source": [
        "df.income.mean()"
      ]
    },
    {
      "cell_type": "code",
      "execution_count": 22,
      "metadata": {},
      "outputs": [
        {
          "output_type": "execute_result",
          "data": {
            "text/plain": [
              "    name  income\n",
              "0    Rob  5000.0\n",
              "1  Rafiq  6000.0\n",
              "2   Nina  4000.0\n",
              "3  Sofia  6000.0\n",
              "4  Mohan  8000.0\n",
              "5    Tao  7000.0"
            ],
            "text/html": "<div>\n<style scoped>\n    .dataframe tbody tr th:only-of-type {\n        vertical-align: middle;\n    }\n\n    .dataframe tbody tr th {\n        vertical-align: top;\n    }\n\n    .dataframe thead th {\n        text-align: right;\n    }\n</style>\n<table border=\"1\" class=\"dataframe\">\n  <thead>\n    <tr style=\"text-align: right;\">\n      <th></th>\n      <th>name</th>\n      <th>income</th>\n    </tr>\n  </thead>\n  <tbody>\n    <tr>\n      <th>0</th>\n      <td>Rob</td>\n      <td>5000.0</td>\n    </tr>\n    <tr>\n      <th>1</th>\n      <td>Rafiq</td>\n      <td>6000.0</td>\n    </tr>\n    <tr>\n      <th>2</th>\n      <td>Nina</td>\n      <td>4000.0</td>\n    </tr>\n    <tr>\n      <th>3</th>\n      <td>Sofia</td>\n      <td>6000.0</td>\n    </tr>\n    <tr>\n      <th>4</th>\n      <td>Mohan</td>\n      <td>8000.0</td>\n    </tr>\n    <tr>\n      <th>5</th>\n      <td>Tao</td>\n      <td>7000.0</td>\n    </tr>\n  </tbody>\n</table>\n</div>"
          },
          "metadata": {},
          "execution_count": 22
        }
      ],
      "source": [
        "df_new = df.fillna(df.income.mean())\n",
        "df_new"
      ]
    },
    {
      "cell_type": "code",
      "execution_count": null,
      "metadata": {},
      "outputs": [],
      "source": []
    }
  ]
}